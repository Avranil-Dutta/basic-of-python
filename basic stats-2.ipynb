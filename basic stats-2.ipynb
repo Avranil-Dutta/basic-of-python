{
 "cells": [
  {
   "cell_type": "markdown",
   "id": "13324a5b",
   "metadata": {},
   "source": [
    "# Hospital Patient Data Analysis"
   ]
  },
  {
   "cell_type": "markdown",
   "id": "2b435bda",
   "metadata": {},
   "source": [
    "1.\tLoad the patient dataset and show summary with info()."
   ]
  },
  {
   "cell_type": "code",
   "execution_count": 2,
   "id": "25ba3a8b",
   "metadata": {},
   "outputs": [],
   "source": [
    "import pandas as pd  # Importing pandas library for data manipulation and analysis\n",
    "\n",
    "# Reading patient records dataset into a DataFrame\n",
    "patients_data_df = pd.read_csv('patient_data.csv')\n",
    "\n",
    "# Reading billing records dataset into a DataFrame\n",
    "billing_data_df = pd.read_csv('billing_data.csv')"
   ]
  },
  {
   "cell_type": "code",
   "execution_count": 3,
   "id": "22f89bab",
   "metadata": {},
   "outputs": [
    {
     "name": "stdout",
     "output_type": "stream",
     "text": [
      "<class 'pandas.core.frame.DataFrame'>\n",
      "RangeIndex: 6 entries, 0 to 5\n",
      "Data columns (total 7 columns):\n",
      " #   Column          Non-Null Count  Dtype  \n",
      "---  ------          --------------  -----  \n",
      " 0   PatientID       6 non-null      int64  \n",
      " 1   Name            6 non-null      object \n",
      " 2   Department      6 non-null      object \n",
      " 3   Doctor          6 non-null      object \n",
      " 4   BillAmount      4 non-null      float64\n",
      " 5   ReceptionistID  6 non-null      int64  \n",
      " 6   CheckInTime     6 non-null      object \n",
      "dtypes: float64(1), int64(2), object(4)\n",
      "memory usage: 468.0+ bytes\n"
     ]
    }
   ],
   "source": [
    "patients_data_df.info()"
   ]
  },
  {
   "cell_type": "code",
   "execution_count": 4,
   "id": "ac8803ee",
   "metadata": {},
   "outputs": [
    {
     "data": {
      "text/html": [
       "<div>\n",
       "<style scoped>\n",
       "    .dataframe tbody tr th:only-of-type {\n",
       "        vertical-align: middle;\n",
       "    }\n",
       "\n",
       "    .dataframe tbody tr th {\n",
       "        vertical-align: top;\n",
       "    }\n",
       "\n",
       "    .dataframe thead th {\n",
       "        text-align: right;\n",
       "    }\n",
       "</style>\n",
       "<table border=\"1\" class=\"dataframe\">\n",
       "  <thead>\n",
       "    <tr style=\"text-align: right;\">\n",
       "      <th></th>\n",
       "      <th>PatientID</th>\n",
       "      <th>Name</th>\n",
       "      <th>Department</th>\n",
       "      <th>Doctor</th>\n",
       "      <th>BillAmount</th>\n",
       "      <th>ReceptionistID</th>\n",
       "      <th>CheckInTime</th>\n",
       "    </tr>\n",
       "  </thead>\n",
       "  <tbody>\n",
       "    <tr>\n",
       "      <th>0</th>\n",
       "      <td>101</td>\n",
       "      <td>Alice</td>\n",
       "      <td>Cardiology</td>\n",
       "      <td>Dr. Smith</td>\n",
       "      <td>5000.0</td>\n",
       "      <td>1</td>\n",
       "      <td>2023-01-10 09:00</td>\n",
       "    </tr>\n",
       "    <tr>\n",
       "      <th>1</th>\n",
       "      <td>102</td>\n",
       "      <td>Bob</td>\n",
       "      <td>Neurology</td>\n",
       "      <td>Dr. John</td>\n",
       "      <td>NaN</td>\n",
       "      <td>2</td>\n",
       "      <td>2023-01-11 10:30</td>\n",
       "    </tr>\n",
       "    <tr>\n",
       "      <th>2</th>\n",
       "      <td>103</td>\n",
       "      <td>Charlie</td>\n",
       "      <td>Orthopedics</td>\n",
       "      <td>Dr. Lee</td>\n",
       "      <td>7500.0</td>\n",
       "      <td>1</td>\n",
       "      <td>2023-01-12 11:00</td>\n",
       "    </tr>\n",
       "    <tr>\n",
       "      <th>3</th>\n",
       "      <td>104</td>\n",
       "      <td>David</td>\n",
       "      <td>Cardiology</td>\n",
       "      <td>Dr. Smith</td>\n",
       "      <td>6200.0</td>\n",
       "      <td>3</td>\n",
       "      <td>2023-01-13 12:00</td>\n",
       "    </tr>\n",
       "    <tr>\n",
       "      <th>4</th>\n",
       "      <td>105</td>\n",
       "      <td>Eva</td>\n",
       "      <td>Dermatology</td>\n",
       "      <td>Dr. Rose</td>\n",
       "      <td>NaN</td>\n",
       "      <td>2</td>\n",
       "      <td>2023-01-14 08:45</td>\n",
       "    </tr>\n",
       "  </tbody>\n",
       "</table>\n",
       "</div>"
      ],
      "text/plain": [
       "   PatientID     Name   Department     Doctor  BillAmount  ReceptionistID  \\\n",
       "0        101    Alice   Cardiology  Dr. Smith      5000.0               1   \n",
       "1        102      Bob    Neurology   Dr. John         NaN               2   \n",
       "2        103  Charlie  Orthopedics    Dr. Lee      7500.0               1   \n",
       "3        104    David   Cardiology  Dr. Smith      6200.0               3   \n",
       "4        105      Eva  Dermatology   Dr. Rose         NaN               2   \n",
       "\n",
       "        CheckInTime  \n",
       "0  2023-01-10 09:00  \n",
       "1  2023-01-11 10:30  \n",
       "2  2023-01-12 11:00  \n",
       "3  2023-01-13 12:00  \n",
       "4  2023-01-14 08:45  "
      ]
     },
     "execution_count": 4,
     "metadata": {},
     "output_type": "execute_result"
    }
   ],
   "source": [
    "patients_data_df.head()"
   ]
  },
  {
   "cell_type": "code",
   "execution_count": 5,
   "id": "1679c068",
   "metadata": {},
   "outputs": [
    {
     "data": {
      "text/html": [
       "<div>\n",
       "<style scoped>\n",
       "    .dataframe tbody tr th:only-of-type {\n",
       "        vertical-align: middle;\n",
       "    }\n",
       "\n",
       "    .dataframe tbody tr th {\n",
       "        vertical-align: top;\n",
       "    }\n",
       "\n",
       "    .dataframe thead th {\n",
       "        text-align: right;\n",
       "    }\n",
       "</style>\n",
       "<table border=\"1\" class=\"dataframe\">\n",
       "  <thead>\n",
       "    <tr style=\"text-align: right;\">\n",
       "      <th></th>\n",
       "      <th>PatientID</th>\n",
       "      <th>Name</th>\n",
       "      <th>Department</th>\n",
       "      <th>Doctor</th>\n",
       "      <th>BillAmount</th>\n",
       "      <th>ReceptionistID</th>\n",
       "      <th>CheckInTime</th>\n",
       "    </tr>\n",
       "  </thead>\n",
       "  <tbody>\n",
       "    <tr>\n",
       "      <th>count</th>\n",
       "      <td>6.000000</td>\n",
       "      <td>6</td>\n",
       "      <td>6</td>\n",
       "      <td>6</td>\n",
       "      <td>4.000000</td>\n",
       "      <td>6.000000</td>\n",
       "      <td>6</td>\n",
       "    </tr>\n",
       "    <tr>\n",
       "      <th>unique</th>\n",
       "      <td>NaN</td>\n",
       "      <td>5</td>\n",
       "      <td>4</td>\n",
       "      <td>4</td>\n",
       "      <td>NaN</td>\n",
       "      <td>NaN</td>\n",
       "      <td>5</td>\n",
       "    </tr>\n",
       "    <tr>\n",
       "      <th>top</th>\n",
       "      <td>NaN</td>\n",
       "      <td>Alice</td>\n",
       "      <td>Cardiology</td>\n",
       "      <td>Dr. Smith</td>\n",
       "      <td>NaN</td>\n",
       "      <td>NaN</td>\n",
       "      <td>2023-01-10 09:00</td>\n",
       "    </tr>\n",
       "    <tr>\n",
       "      <th>freq</th>\n",
       "      <td>NaN</td>\n",
       "      <td>2</td>\n",
       "      <td>3</td>\n",
       "      <td>3</td>\n",
       "      <td>NaN</td>\n",
       "      <td>NaN</td>\n",
       "      <td>2</td>\n",
       "    </tr>\n",
       "    <tr>\n",
       "      <th>mean</th>\n",
       "      <td>102.666667</td>\n",
       "      <td>NaN</td>\n",
       "      <td>NaN</td>\n",
       "      <td>NaN</td>\n",
       "      <td>5925.000000</td>\n",
       "      <td>1.666667</td>\n",
       "      <td>NaN</td>\n",
       "    </tr>\n",
       "    <tr>\n",
       "      <th>std</th>\n",
       "      <td>1.632993</td>\n",
       "      <td>NaN</td>\n",
       "      <td>NaN</td>\n",
       "      <td>NaN</td>\n",
       "      <td>1192.686044</td>\n",
       "      <td>0.816497</td>\n",
       "      <td>NaN</td>\n",
       "    </tr>\n",
       "    <tr>\n",
       "      <th>min</th>\n",
       "      <td>101.000000</td>\n",
       "      <td>NaN</td>\n",
       "      <td>NaN</td>\n",
       "      <td>NaN</td>\n",
       "      <td>5000.000000</td>\n",
       "      <td>1.000000</td>\n",
       "      <td>NaN</td>\n",
       "    </tr>\n",
       "    <tr>\n",
       "      <th>25%</th>\n",
       "      <td>101.250000</td>\n",
       "      <td>NaN</td>\n",
       "      <td>NaN</td>\n",
       "      <td>NaN</td>\n",
       "      <td>5000.000000</td>\n",
       "      <td>1.000000</td>\n",
       "      <td>NaN</td>\n",
       "    </tr>\n",
       "    <tr>\n",
       "      <th>50%</th>\n",
       "      <td>102.500000</td>\n",
       "      <td>NaN</td>\n",
       "      <td>NaN</td>\n",
       "      <td>NaN</td>\n",
       "      <td>5600.000000</td>\n",
       "      <td>1.500000</td>\n",
       "      <td>NaN</td>\n",
       "    </tr>\n",
       "    <tr>\n",
       "      <th>75%</th>\n",
       "      <td>103.750000</td>\n",
       "      <td>NaN</td>\n",
       "      <td>NaN</td>\n",
       "      <td>NaN</td>\n",
       "      <td>6525.000000</td>\n",
       "      <td>2.000000</td>\n",
       "      <td>NaN</td>\n",
       "    </tr>\n",
       "    <tr>\n",
       "      <th>max</th>\n",
       "      <td>105.000000</td>\n",
       "      <td>NaN</td>\n",
       "      <td>NaN</td>\n",
       "      <td>NaN</td>\n",
       "      <td>7500.000000</td>\n",
       "      <td>3.000000</td>\n",
       "      <td>NaN</td>\n",
       "    </tr>\n",
       "  </tbody>\n",
       "</table>\n",
       "</div>"
      ],
      "text/plain": [
       "         PatientID   Name  Department     Doctor   BillAmount  ReceptionistID  \\\n",
       "count     6.000000      6           6          6     4.000000        6.000000   \n",
       "unique         NaN      5           4          4          NaN             NaN   \n",
       "top            NaN  Alice  Cardiology  Dr. Smith          NaN             NaN   \n",
       "freq           NaN      2           3          3          NaN             NaN   \n",
       "mean    102.666667    NaN         NaN        NaN  5925.000000        1.666667   \n",
       "std       1.632993    NaN         NaN        NaN  1192.686044        0.816497   \n",
       "min     101.000000    NaN         NaN        NaN  5000.000000        1.000000   \n",
       "25%     101.250000    NaN         NaN        NaN  5000.000000        1.000000   \n",
       "50%     102.500000    NaN         NaN        NaN  5600.000000        1.500000   \n",
       "75%     103.750000    NaN         NaN        NaN  6525.000000        2.000000   \n",
       "max     105.000000    NaN         NaN        NaN  7500.000000        3.000000   \n",
       "\n",
       "             CheckInTime  \n",
       "count                  6  \n",
       "unique                 5  \n",
       "top     2023-01-10 09:00  \n",
       "freq                   2  \n",
       "mean                 NaN  \n",
       "std                  NaN  \n",
       "min                  NaN  \n",
       "25%                  NaN  \n",
       "50%                  NaN  \n",
       "75%                  NaN  \n",
       "max                  NaN  "
      ]
     },
     "execution_count": 5,
     "metadata": {},
     "output_type": "execute_result"
    }
   ],
   "source": [
    "patients_data_df.describe(include='all')"
   ]
  },
  {
   "cell_type": "markdown",
   "id": "61ef76fd",
   "metadata": {},
   "source": [
    "2.\tSelect only the columns relevant for billing: ['PatientID', 'Department', 'Doctor', 'BillAmount']."
   ]
  },
  {
   "cell_type": "code",
   "execution_count": 6,
   "id": "8113df19",
   "metadata": {},
   "outputs": [],
   "source": [
    "# Create a new DataFrame containing only the selected columns for billing information\n",
    "\n",
    "cols_keep = ['PatientID','Department','Doctor','Billamount']\n",
    "patients_billing = patients_data_df.copy([cols_keep])"
   ]
  },
  {
   "cell_type": "markdown",
   "id": "cd0f52d6",
   "metadata": {},
   "source": [
    "3.\tDrop administrative columns like ['ReceptionistID', 'CheckInTime']."
   ]
  },
  {
   "cell_type": "code",
   "execution_count": 7,
   "id": "add7de61",
   "metadata": {},
   "outputs": [
    {
     "data": {
      "text/html": [
       "<div>\n",
       "<style scoped>\n",
       "    .dataframe tbody tr th:only-of-type {\n",
       "        vertical-align: middle;\n",
       "    }\n",
       "\n",
       "    .dataframe tbody tr th {\n",
       "        vertical-align: top;\n",
       "    }\n",
       "\n",
       "    .dataframe thead th {\n",
       "        text-align: right;\n",
       "    }\n",
       "</style>\n",
       "<table border=\"1\" class=\"dataframe\">\n",
       "  <thead>\n",
       "    <tr style=\"text-align: right;\">\n",
       "      <th></th>\n",
       "      <th>PatientID</th>\n",
       "      <th>Name</th>\n",
       "      <th>Department</th>\n",
       "      <th>Doctor</th>\n",
       "      <th>BillAmount</th>\n",
       "    </tr>\n",
       "  </thead>\n",
       "  <tbody>\n",
       "    <tr>\n",
       "      <th>0</th>\n",
       "      <td>101</td>\n",
       "      <td>Alice</td>\n",
       "      <td>Cardiology</td>\n",
       "      <td>Dr. Smith</td>\n",
       "      <td>5000.0</td>\n",
       "    </tr>\n",
       "    <tr>\n",
       "      <th>1</th>\n",
       "      <td>102</td>\n",
       "      <td>Bob</td>\n",
       "      <td>Neurology</td>\n",
       "      <td>Dr. John</td>\n",
       "      <td>NaN</td>\n",
       "    </tr>\n",
       "    <tr>\n",
       "      <th>2</th>\n",
       "      <td>103</td>\n",
       "      <td>Charlie</td>\n",
       "      <td>Orthopedics</td>\n",
       "      <td>Dr. Lee</td>\n",
       "      <td>7500.0</td>\n",
       "    </tr>\n",
       "    <tr>\n",
       "      <th>3</th>\n",
       "      <td>104</td>\n",
       "      <td>David</td>\n",
       "      <td>Cardiology</td>\n",
       "      <td>Dr. Smith</td>\n",
       "      <td>6200.0</td>\n",
       "    </tr>\n",
       "    <tr>\n",
       "      <th>4</th>\n",
       "      <td>105</td>\n",
       "      <td>Eva</td>\n",
       "      <td>Dermatology</td>\n",
       "      <td>Dr. Rose</td>\n",
       "      <td>NaN</td>\n",
       "    </tr>\n",
       "    <tr>\n",
       "      <th>5</th>\n",
       "      <td>101</td>\n",
       "      <td>Alice</td>\n",
       "      <td>Cardiology</td>\n",
       "      <td>Dr. Smith</td>\n",
       "      <td>5000.0</td>\n",
       "    </tr>\n",
       "  </tbody>\n",
       "</table>\n",
       "</div>"
      ],
      "text/plain": [
       "   PatientID     Name   Department     Doctor  BillAmount\n",
       "0        101    Alice   Cardiology  Dr. Smith      5000.0\n",
       "1        102      Bob    Neurology   Dr. John         NaN\n",
       "2        103  Charlie  Orthopedics    Dr. Lee      7500.0\n",
       "3        104    David   Cardiology  Dr. Smith      6200.0\n",
       "4        105      Eva  Dermatology   Dr. Rose         NaN\n",
       "5        101    Alice   Cardiology  Dr. Smith      5000.0"
      ]
     },
     "execution_count": 7,
     "metadata": {},
     "output_type": "execute_result"
    }
   ],
   "source": [
    "# Dropping admin-related columns to keep only useful patient information\n",
    "admin_cols = ['ReceptionistID','CheckInTime']\n",
    "patients_data_df.drop(columns=admin_cols, errors= 'ignore')"
   ]
  },
  {
   "cell_type": "markdown",
   "id": "b613ffc0",
   "metadata": {},
   "source": [
    "4.\tUse groupby to find total bill amount per department."
   ]
  },
  {
   "cell_type": "code",
   "execution_count": 8,
   "id": "92c1318c",
   "metadata": {},
   "outputs": [
    {
     "name": "stdout",
     "output_type": "stream",
     "text": [
      "    Department  BillAmount\n",
      "0   Cardiology     16200.0\n",
      "1  Dermatology         0.0\n",
      "2    Neurology         0.0\n",
      "3  Orthopedics      7500.0\n"
     ]
    }
   ],
   "source": [
    "# calculate the sum of 'BillAmount' for each department.\n",
    "dept_totals=patients_billing.groupby('Department', as_index=False)['BillAmount'].sum()\n",
    "\n",
    "dept_totals.sort_values('BillAmount',ascending=False)   # and sort the departments by total billing amount in descending order\n",
    "print(dept_totals)"
   ]
  },
  {
   "cell_type": "markdown",
   "id": "bdd596ad",
   "metadata": {},
   "source": [
    "5.\tRemove duplicate patient records based on PatientID."
   ]
  },
  {
   "cell_type": "code",
   "execution_count": 9,
   "id": "3c3532d1",
   "metadata": {},
   "outputs": [
    {
     "name": "stdout",
     "output_type": "stream",
     "text": [
      "   PatientID   Department     Doctor  BillAmount\n",
      "0        101   Cardiology  Dr. Smith     10000.0\n",
      "1        102    Neurology   Dr. John         0.0\n",
      "2        103  Orthopedics    Dr. Lee      7500.0\n",
      "3        104   Cardiology  Dr. Smith      6200.0\n",
      "4        105  Dermatology   Dr. Rose         0.0\n"
     ]
    }
   ],
   "source": [
    "# Aggregate patient billing data by PatientID:\n",
    "agg_rules = {\n",
    "    'Department': 'last',\n",
    "    'Doctor': 'last',\n",
    "    'BillAmount': 'sum'\n",
    "}                             # - Keep the last recorded Department and Doctor for each patient\n",
    "\n",
    "patients_agg = patients_billing.groupby('PatientID',as_index=False).agg(agg_rules)\n",
    "print(patients_agg)"
   ]
  },
  {
   "cell_type": "markdown",
   "id": "20e9314c",
   "metadata": {},
   "source": [
    "6.\tFill missing BillAmount values with the mean bill amount."
   ]
  },
  {
   "cell_type": "code",
   "execution_count": 23,
   "id": "ab1616e8",
   "metadata": {},
   "outputs": [
    {
     "name": "stdout",
     "output_type": "stream",
     "text": [
      "Mean Bill: 5925.0\n",
      "\n",
      "updated DataFrame:\n",
      "   PatientID     Name   Department     Doctor  BillAmount  ReceptionistID  \\\n",
      "0        101    Alice   Cardiology  Dr. Smith      5000.0               1   \n",
      "1        102      Bob    Neurology   Dr. John      5925.0               2   \n",
      "2        103  Charlie  Orthopedics    Dr. Lee      7500.0               1   \n",
      "3        104    David   Cardiology  Dr. Smith      6200.0               3   \n",
      "4        105      Eva  Dermatology   Dr. Rose      5925.0               2   \n",
      "\n",
      "        CheckInTime  \n",
      "0  2023-01-10 09:00  \n",
      "1  2023-01-11 10:30  \n",
      "2  2023-01-12 11:00  \n",
      "3  2023-01-13 12:00  \n",
      "4  2023-01-14 08:45  \n"
     ]
    }
   ],
   "source": [
    "mean_bill = patients_billing['BillAmount'].mean(skipna=True)\n",
    "      # Calculate the mean of 'BillAmount' (ignoring NaN) and replace all missing values with this mean\n",
    "patients_billing['BillAmount']= patients_billing['BillAmount'].fillna(mean_bill)\n",
    "\n",
    "\n",
    "print(\"Mean Bill:\", mean_bill)\n",
    "print(\"\\nupdated DataFrame:\")\n",
    "print(patients_billing.head())"
   ]
  },
  {
   "cell_type": "markdown",
   "id": "105902df",
   "metadata": {},
   "source": [
    "7.\tMerge the billing dataset with patient dataset on PatientID."
   ]
  },
  {
   "cell_type": "code",
   "execution_count": 11,
   "id": "049bba2d",
   "metadata": {},
   "outputs": [
    {
     "name": "stdout",
     "output_type": "stream",
     "text": [
      "<class 'pandas.core.frame.DataFrame'>\n",
      "RangeIndex: 5 entries, 0 to 4\n",
      "Data columns (total 6 columns):\n",
      " #   Column            Non-Null Count  Dtype  \n",
      "---  ------            --------------  -----  \n",
      " 0   PatientID         5 non-null      int64  \n",
      " 1   Department        5 non-null      object \n",
      " 2   Doctor            5 non-null      object \n",
      " 3   BillAmount        5 non-null      float64\n",
      " 4   InsuranceCovered  5 non-null      int64  \n",
      " 5   FinalAmount       5 non-null      int64  \n",
      "dtypes: float64(1), int64(3), object(2)\n",
      "memory usage: 372.0+ bytes\n",
      "   PatientID   Department     Doctor  BillAmount  InsuranceCovered  \\\n",
      "0        101   Cardiology  Dr. Smith     10000.0              2000   \n",
      "1        102    Neurology   Dr. John         0.0              1500   \n",
      "2        103  Orthopedics    Dr. Lee      7500.0              2500   \n",
      "3        104   Cardiology  Dr. Smith      6200.0              3000   \n",
      "4        105  Dermatology   Dr. Rose         0.0              1000   \n",
      "\n",
      "   FinalAmount  \n",
      "0         3000  \n",
      "1         3500  \n",
      "2         5000  \n",
      "3         3200  \n",
      "4         4000  \n"
     ]
    }
   ],
   "source": [
    "# Convert the 'InsuranceCovered' column to numeric, coercing any non-numeric values to NaN.\n",
    "billing_data_df['InsuranceCovered']=pd.to_numeric(billing_data_df['InsuranceCovered'],errors='coerce')\n",
    "\n",
    "merged= pd.merge(patients_agg, billing_data_df, on='PatientID',  how='left', suffixes=('_patients','_billing'),validate='m:1')\n",
    "merged.info()# Then merge the aggregated patient data (patients_agg) with billing data (billing_data_df) \n",
    "# 'validate=\"m:1\"' ensures that each patient in billing_data_df corresponds to at most one patient in patients_agg.\n",
    "\n",
    "print(merged.head())"
   ]
  },
  {
   "cell_type": "markdown",
   "id": "b1985764",
   "metadata": {},
   "source": [
    "8.\tConcatenate an additional DataFrame that contains new patients for the current week (row-wise)."
   ]
  },
  {
   "cell_type": "code",
   "execution_count": 22,
   "id": "10b47961",
   "metadata": {},
   "outputs": [
    {
     "name": "stdout",
     "output_type": "stream",
     "text": [
      "\n",
      "Updated DataFrame:\n",
      "   PatientID     Name   Department     Doctor  BillAmount  ReceptionistID  \\\n",
      "0        101    Alice   Cardiology  Dr. Smith      5000.0             1.0   \n",
      "1        102      Bob    Neurology   Dr. John         NaN             2.0   \n",
      "2        103  Charlie  Orthopedics    Dr. Lee      7500.0             1.0   \n",
      "3        104    David   Cardiology  Dr. Smith      6200.0             3.0   \n",
      "4        105      Eva  Dermatology   Dr. Rose         NaN             2.0   \n",
      "5        101    Alice   Cardiology  Dr. Smith      5000.0             1.0   \n",
      "6        106      NaN   Cardiology  Dr. Smith      5000.0             NaN   \n",
      "7        107      NaN    Neurology   Dr. John      6500.0             NaN   \n",
      "8        106      NaN   Cardiology  Dr. Smith      5000.0             NaN   \n",
      "9        107      NaN    Neurology   Dr. John      6500.0             NaN   \n",
      "10       106      NaN   Cardiology  Dr. Smith      5000.0             NaN   \n",
      "11       107      NaN    Neurology   Dr. John      6500.0             NaN   \n",
      "\n",
      "         CheckInTime   name  ReciptionistID  \n",
      "0   2023-01-10 09:00    NaN             NaN  \n",
      "1   2023-01-11 10:30    NaN             NaN  \n",
      "2   2023-01-12 11:00    NaN             NaN  \n",
      "3   2023-01-13 12:00    NaN             NaN  \n",
      "4   2023-01-14 08:45    NaN             NaN  \n",
      "5   2023-01-10 09:00    NaN             NaN  \n",
      "6   2023-10-15 11:00    Ray             1.0  \n",
      "7   2023-10-11 10:00  Jason             3.0  \n",
      "8   2023-10-15 11:00    Ray             1.0  \n",
      "9   2023-10-11 10:00  Jason             3.0  \n",
      "10  2023-10-15 11:00    Ray             1.0  \n",
      "11  2023-10-11 10:00  Jason             3.0  \n"
     ]
    }
   ],
   "source": [
    "# Adding new patient records to the existing patients_data_df DataFrame by creating a new DataFrame (new_patients) \n",
    "new_patients = pd.DataFrame([\n",
    "    {'PatientID': '106', 'name': 'Ray','Department': 'Cardiology', 'Doctor': 'Dr. Smith', 'BillAmount': 5000.0, 'ReciptionistID': 1,'CheckInTime': '2023-10-15 11:00' },\n",
    "    {'PatientID': '107', 'name': 'Jason','Department': 'Neurology', 'Doctor': 'Dr. John', 'BillAmount': 6500.0, 'ReciptionistID': 3,'CheckInTime': '2023-10-11 10:00' },\n",
    "\n",
    "])\n",
    "\n",
    "patients_data_df= pd .concat([patients_data_df, new_patients], ignore_index=True, sort=False) # and concatenating it. ignore_index=True ensures the index is reset, and sort=False keeps columns in original order.\n",
    "\n",
    "\n",
    "print(\"\\nUpdated DataFrame:\")\n",
    "print(patients_data_df)"
   ]
  },
  {
   "cell_type": "markdown",
   "id": "98bfe8ab",
   "metadata": {},
   "source": [
    "9.\tConcatenate new billing category columns like ['InsuranceCovered', 'FinalAmount'] (column-wise)."
   ]
  },
  {
   "cell_type": "code",
   "execution_count": 24,
   "id": "ec7db2ce",
   "metadata": {},
   "outputs": [
    {
     "name": "stdout",
     "output_type": "stream",
     "text": [
      "Final DataFrame:\n",
      "\n",
      "  PatientID   name  Department     Doctor  BillAmount  ReciptionistID  \\\n",
      "0       106    Ray  Cardiology  Dr. Smith      5000.0               1   \n",
      "1       107  Jason   Neurology   Dr. John      6500.0               3   \n",
      "\n",
      "        CheckInTime  InsuranceCovered  FinalAmount  \n",
      "0  2023-10-15 11:00              True       4000.0  \n",
      "1  2023-10-11 10:00             False       5200.0  \n"
     ]
    }
   ],
   "source": [
    "# Add insurance info and calculate final bill, then merge with new_patients DataFrame.\n",
    "\n",
    "new_cols = pd.DataFrame({\n",
    "    'InsuranceCovered': [True, False, True, False][: len(new_patients)],\n",
    "    'FinalAmount':\n",
    "    new_patients['BillAmount'] * 0.8\n",
    "})\n",
    "\n",
    "final_df = pd.concat([new_patients.reset_index(drop=True),new_cols], axis=1)\n",
    "\n",
    "\n",
    "print(\"Final DataFrame:\\n\")\n",
    "print(final_df)"
   ]
  },
  {
   "cell_type": "markdown",
   "id": "06e6026e",
   "metadata": {},
   "source": [
    "Expected Outcome:"
   ]
  },
  {
   "cell_type": "markdown",
   "id": "75c4cdf5",
   "metadata": {},
   "source": [
    "•\tFinal cleaned dataset with accurate billing info."
   ]
  },
  {
   "cell_type": "code",
   "execution_count": 21,
   "id": "8df3a65d",
   "metadata": {},
   "outputs": [
    {
     "name": "stdout",
     "output_type": "stream",
     "text": [
      "\n",
      "Final dataset info:\n",
      "<class 'pandas.core.frame.DataFrame'>\n",
      "RangeIndex: 2 entries, 0 to 1\n",
      "Data columns (total 9 columns):\n",
      " #   Column            Non-Null Count  Dtype  \n",
      "---  ------            --------------  -----  \n",
      " 0   PatientID         2 non-null      object \n",
      " 1   name              2 non-null      object \n",
      " 2   Department        2 non-null      object \n",
      " 3   Doctor            2 non-null      object \n",
      " 4   BillAmount        2 non-null      float64\n",
      " 5   ReciptionistID    2 non-null      int64  \n",
      " 6   CheckInTime       2 non-null      object \n",
      " 7   InsuranceCovered  2 non-null      bool   \n",
      " 8   FinalAmount       2 non-null      float64\n",
      "dtypes: bool(1), float64(2), int64(1), object(5)\n",
      "memory usage: 262.0+ bytes\n",
      "None\n"
     ]
    }
   ],
   "source": [
    "# Display the structure and summary of the final dataset, including column names, data types, and non-null counts\n",
    "\n",
    "print('\\nFinal dataset info:')\n",
    "print(final_df.info())"
   ]
  },
  {
   "cell_type": "markdown",
   "id": "df9db21b",
   "metadata": {},
   "source": [
    "•\tAll missing values handled, merged dataset across PatientID."
   ]
  },
  {
   "cell_type": "code",
   "execution_count": 15,
   "id": "0348ab41",
   "metadata": {},
   "outputs": [
    {
     "name": "stdout",
     "output_type": "stream",
     "text": [
      "\n",
      "Missing values per column:\n",
      "PatientID           0\n",
      "name                0\n",
      "Department          0\n",
      "Doctor              0\n",
      "BillAmount          0\n",
      "ReciptionistID      0\n",
      "CheckInTime         0\n",
      "InsuranceCovered    0\n",
      "FinalAmount         0\n",
      "dtype: int64\n"
     ]
    }
   ],
   "source": [
    "# Check and display the number of missing (NaN) values in each column of the DataFrame\n",
    "\n",
    "print('\\nMissing values per column:')\n",
    "print(final_df.isna().sum())"
   ]
  },
  {
   "cell_type": "markdown",
   "id": "4ee2cfc1",
   "metadata": {},
   "source": [
    "•\tAbility to perform further analytics on department-wise revenue or doctor performance."
   ]
  },
  {
   "cell_type": "code",
   "execution_count": 16,
   "id": "5f63390e",
   "metadata": {},
   "outputs": [
    {
     "name": "stdout",
     "output_type": "stream",
     "text": [
      "Department\n",
      "Cardiology    4000.0\n",
      "Neurology     5200.0\n",
      "Name: FinalAmount, dtype: float64\n"
     ]
    }
   ],
   "source": [
    "reveneu_by_dept = final_df.groupby('Department')['FinalAmount'].sum()\n",
    "print(reveneu_by_dept)   # Total revenue per department"
   ]
  },
  {
   "cell_type": "code",
   "execution_count": 17,
   "id": "6d55572c",
   "metadata": {},
   "outputs": [
    {
     "name": "stdout",
     "output_type": "stream",
     "text": [
      "Doctor\n",
      "Dr. John     5200.0\n",
      "Dr. Smith    4000.0\n",
      "Name: FinalAmount, dtype: float64\n"
     ]
    }
   ],
   "source": [
    "revenue_by_doc = final_df.groupby('Doctor')['FinalAmount'].sum()\n",
    "print(revenue_by_doc)    # Total revenue per doctor"
   ]
  },
  {
   "cell_type": "markdown",
   "id": "25f7a43a",
   "metadata": {},
   "source": [
    "Conclusion:\n",
    "The hospital patient data was cleaned, merged, and consolidated to create a complete dataset for billing analysis. Missing values were handled, duplicates removed, and new patient records incorporated. The final dataset enables accurate insights into department-wise revenue and doctor performance, ready for further analytics."
   ]
  }
 ],
 "metadata": {
  "kernelspec": {
   "display_name": "Python 3",
   "language": "python",
   "name": "python3"
  },
  "language_info": {
   "codemirror_mode": {
    "name": "ipython",
    "version": 3
   },
   "file_extension": ".py",
   "mimetype": "text/x-python",
   "name": "python",
   "nbconvert_exporter": "python",
   "pygments_lexer": "ipython3",
   "version": "3.13.7"
  }
 },
 "nbformat": 4,
 "nbformat_minor": 5
}
