{
 "cells": [
  {
   "cell_type": "markdown",
   "id": "f1bf33a8",
   "metadata": {},
   "source": [
    "# Exercise 1:- Prime Numbers"
   ]
  },
  {
   "cell_type": "markdown",
   "id": "6d5075ac",
   "metadata": {},
   "source": [
    "A prime number is a natural number that is greater than 1 and has exactly two distinct positive divisor: 1 and itself."
   ]
  },
  {
   "cell_type": "code",
   "execution_count": 1,
   "id": "ee861abd",
   "metadata": {},
   "outputs": [
    {
     "name": "stdout",
     "output_type": "stream",
     "text": [
      "2 is a prime number.\n"
     ]
    }
   ],
   "source": [
    "num = int(input(\"enter a number:\"))\n",
    "\n",
    "if num>1:\n",
    "    for i in range(2,int(num**0.5) + 1):\n",
    "        if num% i == 0:\n",
    "            print(f\"{num} is not a prime number.\")\n",
    "            break\n",
    "    else:\n",
    "        print(f\"{num} is a prime number.\")"
   ]
  },
  {
   "cell_type": "markdown",
   "id": "2a64fca9",
   "metadata": {},
   "source": [
    "# Exercise 2: Product of Random Numbers"
   ]
  },
  {
   "cell_type": "code",
   "execution_count": 3,
   "id": "2ad1cea2",
   "metadata": {},
   "outputs": [],
   "source": [
    "import random\n",
    "\n",
    "def generate_random_numbers():\n",
    "    num1 = random.randint(1,10)\n",
    "    num2 = random.randint(1,10)\n",
    "    return  num1, num2\n",
    "\n",
    "def check_answer(num1,num2, user_answer):\n",
    "    correct_answer = num1 * num2\n",
    "    if user_answer == correct_answer:\n",
    "        return True\n",
    "    else:\n",
    "        return False "
   ]
  },
  {
   "cell_type": "code",
   "execution_count": 4,
   "id": "bce6eb02",
   "metadata": {},
   "outputs": [
    {
     "name": "stdout",
     "output_type": "stream",
     "text": [
      "please enter the product of 6 & 1\n",
      "your answer is correct\n"
     ]
    }
   ],
   "source": [
    "num1 , num2 = generate_random_numbers()\n",
    "print(f\"please enter the product of\", num1, '&', num2)\n",
    "user_answer = int(input(\"your answer: \"))\n",
    "if check_answer(num1, num2, user_answer):\n",
    "    print(\"your answer is correct\")\n",
    "else:\n",
    "    print(\"your answer is incorrect. The correct answer is:\", num1 * num2)\n",
    "    "
   ]
  },
  {
   "cell_type": "markdown",
   "id": "31a9c002",
   "metadata": {},
   "source": [
    "# Excercise 3: Squares of Even numbers"
   ]
  },
  {
   "cell_type": "code",
   "execution_count": 51,
   "id": "71562697",
   "metadata": {},
   "outputs": [
    {
     "name": "stdout",
     "output_type": "stream",
     "text": [
      "this is a even number\n",
      "100 : 10000\n",
      "this is a even number\n",
      "102 : 10404\n",
      "this is a even number\n",
      "104 : 10816\n",
      "this is a even number\n",
      "106 : 11236\n",
      "this is a even number\n",
      "108 : 11664\n",
      "this is a even number\n",
      "110 : 12100\n",
      "this is a even number\n",
      "112 : 12544\n",
      "this is a even number\n",
      "114 : 12996\n",
      "this is a even number\n",
      "116 : 13456\n",
      "this is a even number\n",
      "118 : 13924\n",
      "this is a even number\n",
      "120 : 14400\n",
      "this is a even number\n",
      "122 : 14884\n",
      "this is a even number\n",
      "124 : 15376\n",
      "this is a even number\n",
      "126 : 15876\n",
      "this is a even number\n",
      "128 : 16384\n",
      "this is a even number\n",
      "130 : 16900\n",
      "this is a even number\n",
      "132 : 17424\n",
      "this is a even number\n",
      "134 : 17956\n",
      "this is a even number\n",
      "136 : 18496\n",
      "this is a even number\n",
      "138 : 19044\n",
      "this is a even number\n",
      "140 : 19600\n",
      "this is a even number\n",
      "142 : 20164\n",
      "this is a even number\n",
      "144 : 20736\n",
      "this is a even number\n",
      "146 : 21316\n",
      "this is a even number\n",
      "148 : 21904\n",
      "this is a even number\n",
      "150 : 22500\n",
      "this is a even number\n",
      "152 : 23104\n",
      "this is a even number\n",
      "154 : 23716\n",
      "this is a even number\n",
      "156 : 24336\n",
      "this is a even number\n",
      "158 : 24964\n",
      "this is a even number\n",
      "160 : 25600\n",
      "this is a even number\n",
      "162 : 26244\n",
      "this is a even number\n",
      "164 : 26896\n",
      "this is a even number\n",
      "166 : 27556\n",
      "this is a even number\n",
      "168 : 28224\n",
      "this is a even number\n",
      "170 : 28900\n",
      "this is a even number\n",
      "172 : 29584\n",
      "this is a even number\n",
      "174 : 30276\n",
      "this is a even number\n",
      "176 : 30976\n",
      "this is a even number\n",
      "178 : 31684\n",
      "this is a even number\n",
      "180 : 32400\n",
      "this is a even number\n",
      "182 : 33124\n",
      "this is a even number\n",
      "184 : 33856\n",
      "this is a even number\n",
      "186 : 34596\n",
      "this is a even number\n",
      "188 : 35344\n",
      "this is a even number\n",
      "190 : 36100\n",
      "this is a even number\n",
      "192 : 36864\n",
      "this is a even number\n",
      "194 : 37636\n",
      "this is a even number\n",
      "196 : 38416\n",
      "this is a even number\n",
      "198 : 39204\n"
     ]
    }
   ],
   "source": [
    "\n",
    "for num in range(100,200):\n",
    "    if num%2==0: #choosing even number\n",
    "        print(\"this is a even number\")\n",
    "\n",
    "        print(num, \":\", num ** 2)"
   ]
  },
  {
   "cell_type": "markdown",
   "id": "07f57dcc",
   "metadata": {},
   "source": [
    "# Exercise 4: Hospital Billing System"
   ]
  },
  {
   "cell_type": "code",
   "execution_count": 5,
   "id": "140b0b8e",
   "metadata": {},
   "outputs": [
    {
     "data": {
      "text/plain": [
       "''"
      ]
     },
     "execution_count": 5,
     "metadata": {},
     "output_type": "execute_result"
    }
   ],
   "source": [
    "ROOM_CHARGES=2000\n",
    "DOCTOR_FEE=1500\n",
    "LAB_TEST_CHARGES=300\n",
    "MEDICINE_CHARGES=2400\n",
    "DISCOUNT_THRESHOLD=10000\n",
    "DISCOUNT=0.10\n",
    "_"
   ]
  },
  {
   "cell_type": "code",
   "execution_count": null,
   "id": "4707fef8",
   "metadata": {},
   "outputs": [],
   "source": [
    "days = 4\n",
    "num_tests = 3\n",
    "\n",
    "days = int(input(\"days stayed:\"))            # take number of days the patient stayed\n",
    "num_tests=int(input(\"number of tests:\"))     # take number of lab tests\n",
    "MEDICINE_CHARGES= float(input(\"medicine charges:\"))  # take total medicine charges\n",
    "\n",
    "room_charges = days * ROOM_CHARGES\n",
    "lab_charges = num_tests * LAB_TEST_CHARGES\n",
    "subtotal = room_charges + DOCTOR_FEE + lab_charges + MEDICINE_CHARGES\n",
    "# calculate total bill before discounts/adjustments"
   ]
  },
  {
   "cell_type": "code",
   "execution_count": null,
   "id": "a96cec05",
   "metadata": {},
   "outputs": [
    {
     "name": "stdout",
     "output_type": "stream",
     "text": [
      "Final bill: ₹11,520.00\n"
     ]
    }
   ],
   "source": [
    "if subtotal > DISCOUNT_THRESHOLD:      # Apply discount if the subtotal exceeds the DISCOUNT_THRESHOLD\n",
    "    DISCOUNT = subtotal * DISCOUNT\n",
    "else:\n",
    "    DISCOUNT = 0\n",
    "final_bill =  subtotal - DISCOUNT\n",
    "\n",
    "print(f\"Final bill: ₹{final_bill:,.2f}\")\n"
   ]
  }
 ],
 "metadata": {
  "kernelspec": {
   "display_name": "Python 3",
   "language": "python",
   "name": "python3"
  },
  "language_info": {
   "codemirror_mode": {
    "name": "ipython",
    "version": 3
   },
   "file_extension": ".py",
   "mimetype": "text/x-python",
   "name": "python",
   "nbconvert_exporter": "python",
   "pygments_lexer": "ipython3",
   "version": "3.13.7"
  }
 },
 "nbformat": 4,
 "nbformat_minor": 5
}
